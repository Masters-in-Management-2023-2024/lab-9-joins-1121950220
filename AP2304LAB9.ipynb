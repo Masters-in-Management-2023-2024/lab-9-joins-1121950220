{
  "nbformat": 4,
  "nbformat_minor": 0,
  "metadata": {
    "colab": {
      "provenance": []
    },
    "kernelspec": {
      "name": "python3",
      "display_name": "Python 3"
    },
    "language_info": {
      "name": "python"
    }
  },
  "cells": [
    {
      "cell_type": "code",
      "execution_count": 1,
      "metadata": {
        "id": "m--PS6wYmTWQ"
      },
      "outputs": [],
      "source": [
        "#1 # Import necessary package\n",
        "import polars as pl"
      ]
    },
    {
      "cell_type": "code",
      "source": [
        "#2 Load the bike trips and weather data into Polars DataFrames\n",
        "import polars as pl\n",
        "\n",
        "trips = pl.read_csv(\n",
        "    \"https://raw.githubusercontent.com/philhetzel/opan5510-class9/refs/heads/main/data/bike_trips.csv\",\n",
        "    null_values=\"NA\"\n",
        ")\n",
        "\n",
        "weather = pl.read_csv(\n",
        "    \"https://raw.githubusercontent.com/philhetzel/opan5510-class9/refs/heads/main/data/bike_weather.csv\",\n",
        "    null_values=[\"NA\", \"\"]\n",
        ")\n",
        "\n",
        "# Ensure the 'date' column is correctly parsed as Polars' Date type\n",
        "trips = trips.with_columns(\n",
        "    pl.col(\"date\").str.strptime(pl.Date, \"%Y-%m-%d\").alias(\"date\")\n",
        ")\n",
        "\n",
        "weather = weather.with_columns(\n",
        "    pl.col(\"date\").str.strptime(pl.Date, \"%Y-%m-%d\").alias(\"date\")\n",
        ")\n",
        "\n",
        "# (Optional) Quick sanity check: print record counts\n",
        "print(\"Trips rows:\", trips.height)\n",
        "print(\"Weather rows:\", weather.height)"
      ],
      "metadata": {
        "colab": {
          "base_uri": "https://localhost:8080/"
        },
        "id": "XuXcXgRtmm4C",
        "outputId": "0b13ed01-508d-4993-92df-242c613e38bc"
      },
      "execution_count": 3,
      "outputs": [
        {
          "output_type": "stream",
          "name": "stdout",
          "text": [
            "Trips rows: 78704\n",
            "Weather rows: 733\n"
          ]
        }
      ]
    },
    {
      "cell_type": "code",
      "source": [
        "#3 # Join the trips and weather DataFrames on the 'date' column\n",
        "trips_weather = trips.join(weather, on=\"date\", how=\"inner\")"
      ],
      "metadata": {
        "id": "k6tkp04InHbm"
      },
      "execution_count": 4,
      "outputs": []
    },
    {
      "cell_type": "code",
      "source": [
        "#5 # Calculate average duration for trips on days with a weather event\n",
        "avg_bad_weather = (\n",
        "    trips_weather\n",
        "    .filter(pl.col(\"events\").is_not_null())  # keep only rows where an event is present\n",
        "    .select(\n",
        "        pl.col(\"duration\")  # specify the trip duration column\n",
        "        .mean()  # compute the average\n",
        "        .alias(\"avg_duration\")  # name it as 'avg_duration'\n",
        "    )\n",
        ")"
      ],
      "metadata": {
        "id": "do7TbZnKnvSf"
      },
      "execution_count": 6,
      "outputs": []
    },
    {
      "cell_type": "code",
      "source": [
        "#6 import polars as pl\n",
        "\n",
        "# Load the baseball datasets\n",
        "Batting = pl.read_csv(\n",
        "    \"https://raw.githubusercontent.com/philhetzel/opan5510-class9/refs/heads/main/data/Batting.csv\",\n",
        "    null_values=\"NA\"\n",
        ")\n",
        "\n",
        "People = pl.read_csv(\n",
        "    \"https://raw.githubusercontent.com/philhetzel/opan5510-class9/refs/heads/main/data/People.csv\",\n",
        "    null_values=\"NA\"\n",
        ")\n",
        "\n",
        "HallOfFame = pl.read_csv(\n",
        "    \"https://raw.githubusercontent.com/philhetzel/opan5510-class9/refs/heads/main/data/HallOfFame.csv\",\n",
        "    null_values=\"NA\"\n",
        ")\n",
        "\n",
        "# Join Batting and People DataFrames on playerID\n",
        "stats_w_bio = Batting.join(People, on=\"playerID\", how=\"inner\")"
      ],
      "metadata": {
        "id": "V6W29hJlp62m"
      },
      "execution_count": 7,
      "outputs": []
    },
    {
      "cell_type": "code",
      "source": [
        "#7 # Calculate total home runs by players born in Florida (FL)\n",
        "florida_hr = (\n",
        "    stats_w_bio\n",
        "    .filter(pl.col(\"birthState\") == \"FL\")       # Keep only Florida-born players\n",
        "    .select(pl.col(\"HR\").sum().alias(\"total_hr\"))  # Sum the 'HR' column, alias it as 'total_hr'\n",
        ")"
      ],
      "metadata": {
        "id": "Q9jN2N3LsHSb"
      },
      "execution_count": 8,
      "outputs": []
    },
    {
      "cell_type": "code",
      "source": [
        "#8 # Clean the HallOfFame DataFrame to identify Hall-of-Fame players uniquely\n",
        "hall_inducted = (\n",
        "    HallOfFame\n",
        "    .filter(\n",
        "        (pl.col(\"inducted\") == \"Y\") & (pl.col(\"category\") == \"Player\")\n",
        "    )                           # Keep only rows for inducted players in the 'Player' category\n",
        "    .unique(subset=[\"playerID\"], keep=\"first\")  # Ensure each playerID appears only once\n",
        ")"
      ],
      "metadata": {
        "id": "xV82-ry-seI7"
      },
      "execution_count": 9,
      "outputs": []
    },
    {
      "cell_type": "code",
      "source": [
        "#9 import polars as pl\n",
        "\n",
        "# Load the datasets\n",
        "Batting = pl.read_csv(\n",
        "    \"https://raw.githubusercontent.com/philhetzel/opan5510-class9/refs/heads/main/data/Batting.csv\",\n",
        "    null_values=\"NA\"\n",
        ")\n",
        "\n",
        "HallOfFame = pl.read_csv(\n",
        "    \"https://raw.githubusercontent.com/philhetzel/opan5510-class9/refs/heads/main/data/HallOfFame.csv\",\n",
        "    null_values=\"NA\"\n",
        ")\n",
        "\n",
        "# Clean the HallOfFame DataFrame to identify Hall-of-Fame players uniquely\n",
        "hall_inducted = (\n",
        "    HallOfFame\n",
        "    .filter(\n",
        "        (pl.col(\"inducted\") == \"Y\") & (pl.col(\"category\") == \"Player\")\n",
        "    )                           # Keep only rows for inducted players in the 'Player' category\n",
        "    .unique(subset=[\"playerID\"], keep=\"first\")  # Ensure each playerID appears only once\n",
        ")\n",
        "\n",
        "# Join Batting and hall_inducted DataFrames on playerID and calculate average career hits\n",
        "hof_hits = (\n",
        "    Batting\n",
        "    .join(hall_inducted, on=\"playerID\", how=\"inner\")  # Join on playerID\n",
        "    .group_by(\"playerID\")  # Group by playerID to aggregate per player\n",
        "    .agg(pl.col(\"H\").sum().alias(\"total_hits\"))  # Sum hits per player\n",
        "    .select(pl.col(\"total_hits\").mean().alias(\"average_hits\"))  # Calculate mean of total hits\n",
        ")\n",
        "\n",
        "print(hof_hits)"
      ],
      "metadata": {
        "colab": {
          "base_uri": "https://localhost:8080/"
        },
        "id": "PIuSmX3hsrAN",
        "outputId": "f3ba5eb5-1041-492d-bad0-9b3e7e0b7d8d"
      },
      "execution_count": 11,
      "outputs": [
        {
          "output_type": "stream",
          "name": "stdout",
          "text": [
            "shape: (1, 1)\n",
            "┌──────────────┐\n",
            "│ average_hits │\n",
            "│ ---          │\n",
            "│ f64          │\n",
            "╞══════════════╡\n",
            "│ 1717.29918   │\n",
            "└──────────────┘\n"
          ]
        }
      ]
    }
  ]
}